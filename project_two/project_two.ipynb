{
 "cells": [
  {
   "cell_type": "markdown",
   "id": "4be914e8",
   "metadata": {},
   "source": [
    "# Machine Learning Trading Bot\n",
    "\n",
    "In this Challenge, you’ll assume the role of a financial advisor at one of the top five financial advisory firms in the world. Your firm constantly competes with the other major firms to manage and automatically trade assets in a highly dynamic environment. In recent years, your firm has heavily profited by using computer algorithms that can buy and sell faster than human traders.\n",
    "\n",
    "The speed of these transactions gave your firm a competitive advantage early on. But, people still need to specifically program these systems, which limits their ability to adapt to new data. You’re thus planning to improve the existing algorithmic trading systems and maintain the firm’s competitive advantage in the market. To do so, you’ll enhance the existing trading signals with machine learning algorithms that can adapt to new data.\n",
    "\n",
    "## Instructions:\n",
    "\n",
    "Use the starter code file to complete the steps that the instructions outline. The steps for this Challenge are divided into the following sections:\n",
    "\n",
    "* Establish a Baseline Performance\n",
    "\n",
    "* Tune the Baseline Trading Algorithm\n",
    "\n",
    "* Evaluate a New Machine Learning Classifier\n",
    "\n",
    "* Create an Evaluation Report\n",
    "\n",
    "#### Establish a Baseline Performance\n",
    "\n",
    "In this section, you’ll run the provided starter code to establish a baseline performance for the trading algorithm. To do so, complete the following steps.\n",
    "\n",
    "Open the Jupyter notebook. Restart the kernel, run the provided cells that correspond with the first three steps, and then proceed to step four. \n",
    "\n",
    "1. Import the OHLCV dataset into a Pandas DataFrame.\n",
    "\n",
    "2. Generate trading signals using short- and long-window SMA values. \n",
    "\n",
    "3. Split the data into training and testing datasets.\n",
    "\n",
    "4. Use the `SVC` classifier model from SKLearn's support vector machine (SVM) learning method to fit the training data and make predictions based on the testing data. Review the predictions.\n",
    "\n",
    "5. Review the classification report associated with the `SVC` model predictions. \n",
    "\n",
    "6. Create a predictions DataFrame that contains columns for “Predicted” values, “Actual Returns”, and “Strategy Returns”.\n",
    "\n",
    "7. Create a cumulative return plot that shows the actual returns vs. the strategy returns. Save a PNG image of this plot. This will serve as a baseline against which to compare the effects of tuning the trading algorithm.\n",
    "\n",
    "8. Write your conclusions about the performance of the baseline trading algorithm in the `README.md` file that’s associated with your GitHub repository. Support your findings by using the PNG image that you saved in the previous step.\n",
    "\n",
    "#### Tune the Baseline Trading Algorithm\n",
    "\n",
    "In this section, you’ll tune, or adjust, the model’s input features to find the parameters that result in the best trading outcomes. (You’ll choose the best by comparing the cumulative products of the strategy returns.) To do so, complete the following steps:\n",
    "\n",
    "1. Tune the training algorithm by adjusting the size of the training dataset. To do so, slice your data into different periods. Rerun the notebook with the updated parameters, and record the results in your `README.md` file. Answer the following question: What impact resulted from increasing or decreasing the training window?\n",
    "\n",
    "> **Hint** To adjust the size of the training dataset, you can use a different `DateOffset` value&mdash;for example, six months. Be aware that changing the size of the training dataset also affects the size of the testing dataset.\n",
    "\n",
    "2. Tune the trading algorithm by adjusting the SMA input features. Adjust one or both of the windows for the algorithm. Rerun the notebook with the updated parameters, and record the results in your `README.md` file. Answer the following question: What impact resulted from increasing or decreasing either or both of the SMA windows?\n",
    "\n",
    "3. Choose the set of parameters that best improved the trading algorithm returns. Save a PNG image of the cumulative product of the actual returns vs. the strategy returns, and document your conclusion in your `README.md` file.\n",
    "\n",
    "#### Evaluate a New Machine Learning Classifier\n",
    "\n",
    "In this section, you’ll use the original parameters that the starter code provided. But, you’ll apply them to the performance of a second machine learning model. To do so, complete the following steps:\n",
    "\n",
    "1. Import a new classifier, such as `AdaBoost`, `DecisionTreeClassifier`, or `LogisticRegression`. (For the full list of classifiers, refer to the [Supervised learning page](https://scikit-learn.org/stable/supervised_learning.html) in the scikit-learn documentation.)\n",
    "\n",
    "2. Using the original training data as the baseline model, fit another model with the new classifier.\n",
    "\n",
    "3. Backtest the new model to evaluate its performance. Save a PNG image of the cumulative product of the actual returns vs. the strategy returns for this updated trading algorithm, and write your conclusions in your `README.md` file. Answer the following questions: Did this new model perform better or worse than the provided baseline model? Did this new model perform better or worse than your tuned trading algorithm?\n",
    "\n",
    "#### Create an Evaluation Report\n",
    "\n",
    "In the previous sections, you updated your `README.md` file with your conclusions. To accomplish this section, you need to add a summary evaluation report at the end of the `README.md` file. For this report, express your final conclusions and analysis. Support your findings by using the PNG images that you created.\n"
   ]
  },
  {
   "cell_type": "markdown",
   "id": "f01b1651",
   "metadata": {},
   "source": [
    "---\n",
    "\n",
    "## Establish a Baseline Performance\n",
    "\n",
    "In this section, you’ll run the provided starter code to establish a baseline performance for the trading algorithm. To do so, complete the following steps.\n",
    "\n",
    "Open the Jupyter notebook. Restart the kernel, run the provided cells that correspond with the first three steps, and then proceed to step four. \n"
   ]
  },
  {
   "cell_type": "markdown",
   "id": "34cee633",
   "metadata": {},
   "source": [
    "### Step 1.1: Prepare dataset."
   ]
  },
  {
   "cell_type": "code",
   "execution_count": null,
   "id": "1c6e4cc1",
   "metadata": {},
   "outputs": [],
   "source": [
    "# Create yahoo finance objects\n",
    "\n",
    "lac = yf.Ticker(\"LAC\") \n",
    "sli = yf.Ticker(\"SLI\") \n",
    "lthm = yf.Ticker(\"LTHM\") \n",
    "lit = yf.Ticker(\"LIT\") \n",
    "batt = yf.Ticker(\"BATT\") \n",
    "pll = yf.Ticker(\"PLL\")\n",
    "alb = yf.Ticker(\"ALB\")\n",
    "sqm = yf.Ticker(\"SQM\")\n",
    "orocf = yf.Ticker(\"OROCF\")\n",
    "rcktf = yf.Ticker(\"RCKTF\")"
   ]
  },
  {
   "cell_type": "code",
   "execution_count": null,
   "id": "35b4af39",
   "metadata": {},
   "outputs": [],
   "source": [
    "# Get 2 years of historical market data\n",
    "lac_hist = lac.history(period=\"2y\")\n",
    "sli_hist = sli.history(period=\"2y\")\n",
    "lthm_hist = lthm.history(period=\"2y\")\n",
    "lit_hist = lit.history(period=\"2y\")\n",
    "batt_hist = batt.history(period=\"2y\")\n",
    "pll_hist = pll.history(period=\"2y\")\n",
    "alb_hist = alb.history(period=\"2y\")\n",
    "sqm_hist = sqm.history(period=\"2y\")\n",
    "orocf_hist = orocf.history(period=\"2y\")\n",
    "rcktf_hist = rcktf.history(period=\"2y\")"
   ]
  },
  {
   "cell_type": "code",
   "execution_count": null,
   "id": "39d25daa",
   "metadata": {},
   "outputs": [],
   "source": [
    "# Create empty dataframe\n",
    "\n",
    "prices = pd.DataFrame()\n",
    "\n",
    "# Put only the closing price into the new 'prices' dataframe\n",
    "\n",
    "prices[\"lac\"]= lac_hist.loc[:,'Close']\n",
    "prices['sli']= sli_hist.loc[:,'Close']\n",
    "prices['lthm']= lthm_hist.loc[:,'Close']\n",
    "prices['batt']= batt_hist.loc[:,'Close']\n",
    "prices['pll']= pll_hist.loc[:,'Close']\n",
    "prices[\"alb\"]= alb_hist.loc[:,'Close']\n",
    "prices['sqm']= sqm_hist.loc[:,'Close']\n",
    "prices['orocf']= orocf_hist.loc[:,'Close']\n",
    "prices['rcktf']= rcktf_hist.loc[:,'Close']\n",
    "\n",
    "prices"
   ]
  },
  {
   "cell_type": "code",
   "execution_count": null,
   "id": "d7f3b201",
   "metadata": {},
   "outputs": [
    {
     "data": {
      "text/html": [
       "<div>\n",
       "<style scoped>\n",
       "    .dataframe tbody tr th:only-of-type {\n",
       "        vertical-align: middle;\n",
       "    }\n",
       "\n",
       "    .dataframe tbody tr th {\n",
       "        vertical-align: top;\n",
       "    }\n",
       "\n",
       "    .dataframe thead tr th {\n",
       "        text-align: left;\n",
       "    }\n",
       "\n",
       "    .dataframe thead tr:last-of-type th {\n",
       "        text-align: right;\n",
       "    }\n",
       "</style>\n",
       "<table border=\"1\" class=\"dataframe\">\n",
       "  <thead>\n",
       "    <tr>\n",
       "      <th></th>\n",
       "      <th>lac</th>\n",
       "      <th>sli</th>\n",
       "      <th>lthm</th>\n",
       "      <th>batt</th>\n",
       "      <th>pll</th>\n",
       "      <th>alb</th>\n",
       "      <th>sqm</th>\n",
       "      <th>orocf</th>\n",
       "      <th>rcktf</th>\n",
       "    </tr>\n",
       "    <tr>\n",
       "      <th></th>\n",
       "      <th>close</th>\n",
       "      <th>close</th>\n",
       "      <th>close</th>\n",
       "      <th>close</th>\n",
       "      <th>close</th>\n",
       "      <th>close</th>\n",
       "      <th>close</th>\n",
       "      <th>close</th>\n",
       "      <th>close</th>\n",
       "    </tr>\n",
       "    <tr>\n",
       "      <th>Date</th>\n",
       "      <th></th>\n",
       "      <th></th>\n",
       "      <th></th>\n",
       "      <th></th>\n",
       "      <th></th>\n",
       "      <th></th>\n",
       "      <th></th>\n",
       "      <th></th>\n",
       "      <th></th>\n",
       "    </tr>\n",
       "  </thead>\n",
       "  <tbody>\n",
       "    <tr>\n",
       "      <th>2020-07-06</th>\n",
       "      <td>5.660000</td>\n",
       "      <td>0.800</td>\n",
       "      <td>6.470000</td>\n",
       "      <td>9.525015</td>\n",
       "      <td>6.170000</td>\n",
       "      <td>79.741287</td>\n",
       "      <td>26.195028</td>\n",
       "      <td>1.75</td>\n",
       "      <td>0.43900</td>\n",
       "    </tr>\n",
       "    <tr>\n",
       "      <th>2020-07-07</th>\n",
       "      <td>5.340000</td>\n",
       "      <td>0.773</td>\n",
       "      <td>5.950000</td>\n",
       "      <td>9.427522</td>\n",
       "      <td>6.050000</td>\n",
       "      <td>76.579910</td>\n",
       "      <td>25.880877</td>\n",
       "      <td>1.80</td>\n",
       "      <td>0.43900</td>\n",
       "    </tr>\n",
       "    <tr>\n",
       "      <th>2020-07-08</th>\n",
       "      <td>5.360000</td>\n",
       "      <td>0.765</td>\n",
       "      <td>6.240000</td>\n",
       "      <td>9.578635</td>\n",
       "      <td>6.230000</td>\n",
       "      <td>76.530815</td>\n",
       "      <td>26.056429</td>\n",
       "      <td>1.83</td>\n",
       "      <td>0.43900</td>\n",
       "    </tr>\n",
       "    <tr>\n",
       "      <th>2020-07-09</th>\n",
       "      <td>5.230000</td>\n",
       "      <td>0.760</td>\n",
       "      <td>6.030000</td>\n",
       "      <td>9.486017</td>\n",
       "      <td>6.610000</td>\n",
       "      <td>74.370872</td>\n",
       "      <td>25.160162</td>\n",
       "      <td>1.78</td>\n",
       "      <td>0.40237</td>\n",
       "    </tr>\n",
       "    <tr>\n",
       "      <th>2020-07-10</th>\n",
       "      <td>5.240000</td>\n",
       "      <td>0.873</td>\n",
       "      <td>6.220000</td>\n",
       "      <td>9.534763</td>\n",
       "      <td>6.730000</td>\n",
       "      <td>77.453712</td>\n",
       "      <td>25.557476</td>\n",
       "      <td>1.78</td>\n",
       "      <td>0.40237</td>\n",
       "    </tr>\n",
       "    <tr>\n",
       "      <th>...</th>\n",
       "      <td>...</td>\n",
       "      <td>...</td>\n",
       "      <td>...</td>\n",
       "      <td>...</td>\n",
       "      <td>...</td>\n",
       "      <td>...</td>\n",
       "      <td>...</td>\n",
       "      <td>...</td>\n",
       "      <td>...</td>\n",
       "    </tr>\n",
       "    <tr>\n",
       "      <th>2022-06-28</th>\n",
       "      <td>21.549999</td>\n",
       "      <td>4.510</td>\n",
       "      <td>23.820000</td>\n",
       "      <td>15.120000</td>\n",
       "      <td>40.950001</td>\n",
       "      <td>223.190002</td>\n",
       "      <td>87.089996</td>\n",
       "      <td>7.39</td>\n",
       "      <td>3.59000</td>\n",
       "    </tr>\n",
       "    <tr>\n",
       "      <th>2022-06-29</th>\n",
       "      <td>20.500000</td>\n",
       "      <td>4.230</td>\n",
       "      <td>22.790001</td>\n",
       "      <td>14.720000</td>\n",
       "      <td>38.730000</td>\n",
       "      <td>211.889999</td>\n",
       "      <td>84.300003</td>\n",
       "      <td>7.13</td>\n",
       "      <td>3.40000</td>\n",
       "    </tr>\n",
       "    <tr>\n",
       "      <th>2022-06-30</th>\n",
       "      <td>20.129999</td>\n",
       "      <td>4.240</td>\n",
       "      <td>22.690001</td>\n",
       "      <td>14.630000</td>\n",
       "      <td>36.410000</td>\n",
       "      <td>208.979996</td>\n",
       "      <td>83.529999</td>\n",
       "      <td>7.12</td>\n",
       "      <td>3.35000</td>\n",
       "    </tr>\n",
       "    <tr>\n",
       "      <th>2022-07-01</th>\n",
       "      <td>20.120001</td>\n",
       "      <td>4.240</td>\n",
       "      <td>22.170000</td>\n",
       "      <td>14.430000</td>\n",
       "      <td>35.860001</td>\n",
       "      <td>205.149994</td>\n",
       "      <td>84.669998</td>\n",
       "      <td>7.04</td>\n",
       "      <td>3.35000</td>\n",
       "    </tr>\n",
       "    <tr>\n",
       "      <th>2022-07-05</th>\n",
       "      <td>19.820000</td>\n",
       "      <td>4.130</td>\n",
       "      <td>21.719999</td>\n",
       "      <td>14.330000</td>\n",
       "      <td>35.480000</td>\n",
       "      <td>200.429993</td>\n",
       "      <td>84.669998</td>\n",
       "      <td>6.78</td>\n",
       "      <td>3.07000</td>\n",
       "    </tr>\n",
       "  </tbody>\n",
       "</table>\n",
       "<p>504 rows × 9 columns</p>\n",
       "</div>"
      ],
      "text/plain": [
       "                  lac    sli       lthm       batt        pll         alb  \\\n",
       "                close  close      close      close      close       close   \n",
       "Date                                                                        \n",
       "2020-07-06   5.660000  0.800   6.470000   9.525015   6.170000   79.741287   \n",
       "2020-07-07   5.340000  0.773   5.950000   9.427522   6.050000   76.579910   \n",
       "2020-07-08   5.360000  0.765   6.240000   9.578635   6.230000   76.530815   \n",
       "2020-07-09   5.230000  0.760   6.030000   9.486017   6.610000   74.370872   \n",
       "2020-07-10   5.240000  0.873   6.220000   9.534763   6.730000   77.453712   \n",
       "...               ...    ...        ...        ...        ...         ...   \n",
       "2022-06-28  21.549999  4.510  23.820000  15.120000  40.950001  223.190002   \n",
       "2022-06-29  20.500000  4.230  22.790001  14.720000  38.730000  211.889999   \n",
       "2022-06-30  20.129999  4.240  22.690001  14.630000  36.410000  208.979996   \n",
       "2022-07-01  20.120001  4.240  22.170000  14.430000  35.860001  205.149994   \n",
       "2022-07-05  19.820000  4.130  21.719999  14.330000  35.480000  200.429993   \n",
       "\n",
       "                  sqm orocf    rcktf  \n",
       "                close close    close  \n",
       "Date                                  \n",
       "2020-07-06  26.195028  1.75  0.43900  \n",
       "2020-07-07  25.880877  1.80  0.43900  \n",
       "2020-07-08  26.056429  1.83  0.43900  \n",
       "2020-07-09  25.160162  1.78  0.40237  \n",
       "2020-07-10  25.557476  1.78  0.40237  \n",
       "...               ...   ...      ...  \n",
       "2022-06-28  87.089996  7.39  3.59000  \n",
       "2022-06-29  84.300003  7.13  3.40000  \n",
       "2022-06-30  83.529999  7.12  3.35000  \n",
       "2022-07-01  84.669998  7.04  3.35000  \n",
       "2022-07-05  84.669998  6.78  3.07000  \n",
       "\n",
       "[504 rows x 9 columns]"
      ]
     },
     "metadata": {},
     "output_type": "display_data"
    }
   ],
   "source": [
    "columns = [(\"lac\", \"close\"), (\"sli\", \"close\"), (\"lthm\", \"close\"), (\"batt\", \"close\"), (\"pll\", \"close\"), (\"alb\", \"close\"), (\"sqm\", \"close\"), (\"orocf\", \"close\"), (\"rcktf\", \"close\")]\n",
    "\n",
    "prices.columns = pd.MultiIndex.from_tuples(columns)\n",
    "\n",
    "prices"
   ]
  },
  {
   "cell_type": "markdown",
   "id": "34cee633",
   "metadata": {},
   "source": [
    "### Step 1.2: Import the LITHIUM dataset into a Pandas DataFrame."
   ]
  },
  {
   "cell_type": "code",
   "execution_count": null,
   "id": "42456060",
   "metadata": {},
   "outputs": [],
   "source": [
    "# Import the LITHIUM dataset into a Pandas Dataframe\n",
    "lithium_df = pd.DataFrame()\n",
    "\n",
    "# Put only the closing price into the new 'prices' dataframe\n",
    "\n",
    "lithium_df[\"lac\"]= lac_hist.loc[:,'Close']\n",
    "lithium_df['sli']= sli_hist.loc[:,'Close']\n",
    "lithium_df['lthm']= lthm_hist.loc[:,'Close']\n",
    "lithium_df['batt']= batt_hist.loc[:,'Close']\n",
    "lithium_df['pll']= pll_hist.loc[:,'Close']\n",
    "lithium_df[\"alb\"]= alb_hist.loc[:,'Close']\n",
    "lithium_df['sqm']= sqm_hist.loc[:,'Close']\n",
    "lithium_df['orocf']= orocf_hist.loc[:,'Close']\n",
    "lithium_df['rcktf']= rcktf_hist.loc[:,'Close']\n",
    "\n",
    "lithium_df\n",
    "\n",
    "# Review the DataFrame\n",
    "lithium_df.head()"
   ]
  },
  {
   "cell_type": "code",
   "execution_count": null,
   "id": "4a4587a0",
   "metadata": {},
   "outputs": [],
   "source": [
    "# Filter the date index and close columns\n",
    "signals_df = columns = [(\"lac\", \"close\"), (\"sli\", \"close\"), (\"lthm\", \"close\"), (\"batt\", \"close\"), (\"pll\", \"close\"), (\"alb\", \"close\"), (\"sqm\", \"close\"), (\"orocf\", \"close\"), (\"rcktf\", \"close\")]\n",
    "\n",
    "# Use the pct_change function to generate  returns from close prices\n",
    "signals_df[\"Actual Returns\"] = signals_df[\"close\"].pct_change()\n",
    "\n",
    "# Drop all NaN values from the DataFrame\n",
    "signals_df = signals_df.dropna()\n",
    "\n",
    "# Review the DataFrame\n",
    "display(signals_df.head())\n",
    "display(signals_df.tail())"
   ]
  },
  {
   "cell_type": "markdown",
   "id": "8eededa6",
   "metadata": {},
   "source": [
    "## Step 2: Generate trading signals using short- and long-window SMA values. "
   ]
  },
  {
   "cell_type": "code",
   "execution_count": null,
   "id": "886a22bf",
   "metadata": {},
   "outputs": [],
   "source": [
    "# Set the short window and long window\n",
    "short_window = 4\n",
    "long_window = 100\n",
    "\n",
    "# Generate the fast and slow simple moving averages (4 and 100 days, respectively)\n",
    "signals_df['SMA_Fast'] = signals_df['close'].rolling(window=short_window).mean()\n",
    "signals_df['SMA_Slow'] = signals_df['close'].rolling(window=long_window).mean()\n",
    "\n",
    "signals_df = signals_df.dropna()\n",
    "\n",
    "# Review the DataFrame\n",
    "display(signals_df.head())\n",
    "display(signals_df.tail())"
   ]
  },
  {
   "cell_type": "code",
   "execution_count": null,
   "id": "1aa93c0e",
   "metadata": {},
   "outputs": [],
   "source": [
    "# Initialize the new Signal column\n",
    "signals_df['Signal'] = 0.0\n",
    "\n",
    "# When Actual Returns are greater than or equal to 0, generate signal to buy stock long\n",
    "signals_df.loc[(signals_df['Actual Returns'] >= 0), 'Signal'] = 1\n",
    "\n",
    "# When Actual Returns are less than 0, generate signal to sell stock short\n",
    "signals_df.loc[(signals_df['Actual Returns'] < 0), 'Signal'] = -1\n",
    "\n",
    "# Review the DataFrame\n",
    "display(signals_df.head())\n",
    "display(signals_df.tail())"
   ]
  },
  {
   "cell_type": "code",
   "execution_count": null,
   "id": "6047e16b",
   "metadata": {},
   "outputs": [],
   "source": [
    "signals_df['Signal'].value_counts()"
   ]
  },
  {
   "cell_type": "code",
   "execution_count": null,
   "id": "187ab972",
   "metadata": {},
   "outputs": [],
   "source": [
    "# Calculate the strategy returns and add them to the signals_df DataFrame\n",
    "signals_df['Strategy Returns'] = signals_df['Actual Returns'] * signals_df['Signal'].shift()\n",
    "\n",
    "# Review the DataFrame\n",
    "display(signals_df.head())\n",
    "display(signals_df.tail())"
   ]
  },
  {
   "cell_type": "code",
   "execution_count": null,
   "id": "774a3cd1",
   "metadata": {},
   "outputs": [],
   "source": [
    "# Plot Strategy Returns to examine performance\n",
    "(1 + signals_df['Strategy Returns']).cumprod().plot()"
   ]
  },
  {
   "cell_type": "markdown",
   "id": "3fab4c97",
   "metadata": {},
   "source": [
    "### Step 3: Split the data into training and testing datasets."
   ]
  },
  {
   "cell_type": "code",
   "execution_count": null,
   "id": "8ba23b51",
   "metadata": {},
   "outputs": [],
   "source": [
    "# Assign a copy of the sma_fast and sma_slow columns to a features DataFrame called X\n",
    "X = signals_df[['SMA_Fast', 'SMA_Slow']].shift().dropna()\n",
    "\n",
    "# Review the DataFrame\n",
    "X.head()"
   ]
  },
  {
   "cell_type": "code",
   "execution_count": null,
   "id": "0147d544",
   "metadata": {},
   "outputs": [],
   "source": [
    "# Create the target set selecting the Signal column and assiging it to y\n",
    "y = signals_df['Signal']\n",
    "\n",
    "# Review the value counts\n",
    "y.value_counts()"
   ]
  },
  {
   "cell_type": "code",
   "execution_count": null,
   "id": "3789e217",
   "metadata": {},
   "outputs": [],
   "source": [
    "# Select the start of the training period\n",
    "training_begin = X.index.min()\n",
    "\n",
    "# Display the training begin date\n",
    "print(training_begin)"
   ]
  },
  {
   "cell_type": "code",
   "execution_count": null,
   "id": "96c315ae",
   "metadata": {},
   "outputs": [],
   "source": [
    "# Generate the X_train and y_train DataFrames\n",
    "X_train = X.loc[training_begin:training_end]\n",
    "y_train = y.loc[training_begin:training_end]\n",
    "\n",
    "# Review the X_train DataFrame\n",
    "X_train.head()"
   ]
  },
  {
   "cell_type": "code",
   "execution_count": null,
   "id": "1987e3f3",
   "metadata": {},
   "outputs": [],
   "source": [
    "# Generate the X_test and y_test DataFrames\n",
    "X_test = X.loc[training_end+DateOffset(hours=1):]\n",
    "y_test = y.loc[training_end+DateOffset(hours=1):]\n",
    "\n",
    "# Review the X_test DataFrame\n",
    "X_train.head()"
   ]
  },
  {
   "cell_type": "code",
   "execution_count": null,
   "id": "87f328c0",
   "metadata": {},
   "outputs": [],
   "source": [
    "# Scale the features DataFrames\n",
    "\n",
    "# Create a StandardScaler instance\n",
    "scaler = StandardScaler()\n",
    "\n",
    "# Apply the scaler model to fit the X-train data\n",
    "X_scaler = scaler.fit(X_train)\n",
    "\n",
    "# Transform the X_train and X_test DataFrames using the X_scaler\n",
    "X_train_scaled = X_scaler.transform(X_train)\n",
    "X_test_scaled = X_scaler.transform(X_test)"
   ]
  },
  {
   "cell_type": "markdown",
   "id": "3c7c7d7c",
   "metadata": {},
   "source": [
    "### Step 4: Use the `SVC` classifier model from SKLearn's support vector machine (SVM) learning method to fit the training data and make predictions based on the testing data. Review the predictions."
   ]
  },
  {
   "cell_type": "code",
   "execution_count": null,
   "id": "a215e9c9",
   "metadata": {},
   "outputs": [],
   "source": [
    "# From SVM, instantiate SVC classifier model instance\n",
    "svm_model = svm.SVC()\n",
    " \n",
    "# Fit the model to the data using the training data\n",
    "svm_model = svm_model.fit(X_train_scaled, y_train)\n",
    " \n",
    "# Use the testing data to make the model predictions\n",
    "svm_pred = svm_model.predict(X_test_scaled)\n",
    "\n",
    "# Review the model's predicted values\n",
    "svm_pred"
   ]
  },
  {
   "cell_type": "markdown",
   "id": "d2fe0ea6",
   "metadata": {},
   "source": [
    "### Step 5: Review the classification report associated with the `SVC` model predictions. "
   ]
  },
  {
   "cell_type": "code",
   "execution_count": null,
   "id": "fd995936",
   "metadata": {},
   "outputs": [],
   "source": [
    "# Use a classification report to evaluate the model using the predictions and testing data\n",
    "svm_testing_report = classification_report(y_test, svm_pred)\n",
    "\n",
    "# Print the classification report\n",
    "print(svm_testing_report)"
   ]
  },
  {
   "cell_type": "markdown",
   "id": "99e75d05",
   "metadata": {},
   "source": [
    "### Step 6: Create a predictions DataFrame that contains columns for “Predicted” values, “Actual Returns”, and “Strategy Returns”."
   ]
  },
  {
   "cell_type": "code",
   "execution_count": null,
   "id": "bb32d324",
   "metadata": {},
   "outputs": [],
   "source": [
    "# Plot the actual returns versus the strategy returns\n",
    "(1 + predictions_df[['Actual Returns', 'Strategy Returns']]).cumprod().hvplot()"
   ]
  },
  {
   "cell_type": "markdown",
   "id": "2cf939ff",
   "metadata": {},
   "source": [
    "---\n",
    "\n",
    "## Tune the Baseline Trading Algorithm"
   ]
  },
  {
   "cell_type": "markdown",
   "id": "5fc62040",
   "metadata": {},
   "source": [
    "## Use an Alternative ML Model and Evaluate Strategy Returns"
   ]
  },
  {
   "cell_type": "markdown",
   "id": "124db1ae",
   "metadata": {},
   "source": [
    "In this section, you’ll tune, or adjust, the model’s input features to find the parameters that result in the best trading outcomes. You’ll choose the best by comparing the cumulative products of the strategy returns."
   ]
  },
  {
   "cell_type": "markdown",
   "id": "3c95ca31",
   "metadata": {},
   "source": [
    "### Step 1: Tune the training algorithm by adjusting the size of the training dataset. \n",
    "\n",
    "To do so, slice your data into different periods. Rerun the notebook with the updated parameters, and record the results in your `README.md` file. \n",
    "\n",
    "Answer the following question: What impact resulted from increasing or decreasing the training window?"
   ]
  },
  {
   "cell_type": "markdown",
   "id": "705b46d7",
   "metadata": {},
   "source": [
    "### Step 1: Tune the training algorithm by adjusting the size of the training dataset. \n",
    "\n",
    "To do so, slice your data into different periods. Rerun the notebook with the updated parameters, and record the results in your `README.md` file. \n",
    "\n",
    "Answer the following question: What impact resulted from increasing or decreasing the training window?"
   ]
  },
  {
   "cell_type": "markdown",
   "id": "27d6c7ca",
   "metadata": {},
   "source": [
    "### Step 3: Choose the set of parameters that best improved the trading algorithm returns. \n",
    "\n",
    "Save a PNG image of the cumulative product of the actual returns vs. the strategy returns, and document your conclusion in your `README.md` file."
   ]
  },
  {
   "cell_type": "markdown",
   "id": "97849973",
   "metadata": {},
   "source": [
    "---\n",
    "\n",
    "## Evaluate a New Machine Learning Classifier\n",
    "\n",
    "In this section, you’ll use the original parameters that the starter code provided. But, you’ll apply them to the performance of a second machine learning model. "
   ]
  },
  {
   "cell_type": "markdown",
   "id": "a621e794",
   "metadata": {},
   "source": [
    "### Step 1:  Import a new classifier, such as `AdaBoost`, `DecisionTreeClassifier`, or `LogisticRegression`. (For the full list of classifiers, refer to the [Supervised learning page](https://scikit-learn.org/stable/supervised_learning.html) in the scikit-learn documentation.)"
   ]
  },
  {
   "cell_type": "code",
   "execution_count": null,
   "id": "1bf9ddf4",
   "metadata": {},
   "outputs": [],
   "source": [
    "# Import a new classifier from SKLearn\n",
    "from sklearn.ensemble import AdaBoostClassifier\n",
    "\n",
    "# Initiate the model instance\n",
    "ab_model = AdaBoostClassifier()"
   ]
  },
  {
   "cell_type": "markdown",
   "id": "86e6c941",
   "metadata": {},
   "source": [
    "### Step 2: Using the original training data as the baseline model, fit another model with the new classifier."
   ]
  },
  {
   "cell_type": "code",
   "execution_count": null,
   "id": "f2731752",
   "metadata": {},
   "outputs": [],
   "source": [
    "# Fit the model using the training data\n",
    "ab_model = ab_model.fit(X_train_scaled, y_train)\n",
    "\n",
    "# Use the testing dataset to generate the predictions for the new model\n",
    "ab_pred = ab_model.predict(X_test_scaled)\n",
    "\n",
    "# Review the model's predicted values\n",
    "ab_pred"
   ]
  },
  {
   "cell_type": "markdown",
   "id": "c5cdae79",
   "metadata": {},
   "source": [
    "### Step 3: Backtest the new model to evaluate its performance. \n",
    "\n",
    "Save a PNG image of the cumulative product of the actual returns vs. the strategy returns for this updated trading algorithm, and write your conclusions in your `README.md` file. \n",
    "\n",
    "Answer the following questions: \n",
    "Did this new model perform better or worse than the provided baseline model? \n",
    "Did this new model perform better or worse than your tuned trading algorithm?"
   ]
  },
  {
   "cell_type": "code",
   "execution_count": null,
   "id": "cb0f3038",
   "metadata": {},
   "outputs": [],
   "source": [
    "# Use a classification report to evaluate the model using the predictions and testing data\n",
    "ab_testing_report = classification_report(y_test, ab_pred)\n",
    "\n",
    "# Print the classification report\n",
    "print(ab_testing_report)"
   ]
  },
  {
   "cell_type": "code",
   "execution_count": null,
   "id": "816b16b9",
   "metadata": {},
   "outputs": [],
   "source": [
    "# Create a new empty predictions DataFrame.\n",
    "\n",
    "# Create a predictions DataFrame\n",
    "ab_predictions_df = pd.DataFrame(index=X_test.index)\n",
    "\n",
    "# Add the SVM model predictions to the DataFrame\n",
    "ab_predictions_df['AB Predicted'] = ab_pred\n",
    "\n",
    "# Add the actual returns to the DataFrame\n",
    "ab_predictions_df['Actual Returns'] = signals_df['Actual Returns']\n",
    "\n",
    "# Add the strategy returns to the DataFrame\n",
    "ab_predictions_df['AB Strategy Returns'] = (\n",
    "    ab_predictions_df['Actual Returns'] * ab_predictions_df['AB Predicted']\n",
    ")\n",
    "\n",
    "# Review the DataFrame\n",
    "display(ab_predictions_df.head())\n",
    "display(ab_predictions_df.tail())"
   ]
  },
  {
   "cell_type": "code",
   "execution_count": null,
   "id": "07e4dd6f",
   "metadata": {},
   "outputs": [],
   "source": [
    "(1 + ab_predictions_df[['Actual Returns', 'AB Strategy Returns']]).cumprod().hvplot()"
   ]
  }
 ],
 "metadata": {
  "kernelspec": {
   "display_name": "Python 3.8.9 64-bit",
   "language": "python",
   "name": "python3"
  },
  "language_info": {
   "codemirror_mode": {
    "name": "ipython",
    "version": 3
   },
   "file_extension": ".py",
   "mimetype": "text/x-python",
   "name": "python",
   "nbconvert_exporter": "python",
   "pygments_lexer": "ipython3",
   "version": "3.8.9"
  },
  "vscode": {
   "interpreter": {
    "hash": "31f2aee4e71d21fbe5cf8b01ff0e069b9275f58929596ceb00d14d90e3e16cd6"
   }
  }
 },
 "nbformat": 4,
 "nbformat_minor": 5
}
